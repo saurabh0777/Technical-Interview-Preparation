{
 "cells": [
  {
   "cell_type": "code",
   "execution_count": null,
   "metadata": {},
   "outputs": [],
   "source": [
    "# sum the elements of list\n",
    "# Sol 1\n",
    "l = [2,4,5,6]\n",
    "\n",
    "# Total no elements print(\"len is \",len(l))\n",
    "#sum(l)\n",
    "\n",
    "# Sol 2\n",
    "\n",
    "total =0\n",
    "for i in l:\n",
    "    total = total + i\n",
    "    \n",
    "print(total)"
   ]
  },
  {
   "cell_type": "code",
   "execution_count": 8,
   "metadata": {},
   "outputs": [
    {
     "name": "stdout",
     "output_type": "stream",
     "text": [
      "\n",
      "Here is a list of the Python keywords.  Enter any keyword to get more help.\n",
      "\n",
      "False               def                 if                  raise\n",
      "None                del                 import              return\n",
      "True                elif                in                  try\n",
      "and                 else                is                  while\n",
      "as                  except              lambda              with\n",
      "assert              finally             nonlocal            yield\n",
      "break               for                 not                 \n",
      "class               from                or                  \n",
      "continue            global              pass                \n",
      "\n"
     ]
    }
   ],
   "source": [
    "help('keywords')"
   ]
  },
  {
   "cell_type": "code",
   "execution_count": 71,
   "metadata": {
    "scrolled": false
   },
   "outputs": [
    {
     "name": "stdout",
     "output_type": "stream",
     "text": [
      "0\n"
     ]
    }
   ],
   "source": [
    "# most frequent appear item in Array\n",
    "# use of for loop to count the frequency of each element. \n",
    "#If the current frequency is greater than the previous frequency, update the counter and store the element.\n",
    "\n",
    "Input2 = ['Dog', 'Cat', 'Dog','fish','','']  \n",
    "\n",
    "def emptyremoval(list):\n",
    " \n",
    " while(\"\" in list): \n",
    "    list.remove(\"\")\n",
    " return list\n",
    "\n",
    "def most_often(list):\n",
    "    list = emptyremoval(list)\n",
    "    if len(list) == 0:\n",
    "        return 0\n",
    "    \n",
    "    most_frequent=0\n",
    "    counter =0\n",
    "        \n",
    "    for i in list:\n",
    "            curr_frequency = list.count(i) \n",
    "            if counter < curr_frequency:\n",
    "               counter = curr_frequency\n",
    "               most_frequent=i\n",
    "                       \n",
    "    return most_frequent\n",
    "\n",
    "Input = [2, 1, 2, 2, 5 ,5,5,4,4,4,4] \n",
    "Input1=[]\n",
    "print(most_often(Input1))"
   ]
  },
  {
   "cell_type": "code",
   "execution_count": 68,
   "metadata": {},
   "outputs": [
    {
     "name": "stdout",
     "output_type": "stream",
     "text": [
      "10\n",
      "2\n"
     ]
    }
   ],
   "source": [
    "# Find min and max and min element in list\n",
    "\n",
    "def findmax(list):\n",
    "    max = 0\n",
    "    for i in list:\n",
    "        if i > max:\n",
    "            max =i\n",
    "    \n",
    "    return max\n",
    "\n",
    "def findmin(list):\n",
    "    min = list[0]\n",
    "    for i in list:\n",
    "        if i < min:\n",
    "            min =i\n",
    "    \n",
    "    return min\n",
    "\n",
    "\n",
    "input =[3,2,4,10]\n",
    "print(findmax(input))\n",
    "print(findmin(input))"
   ]
  },
  {
   "cell_type": "code",
   "execution_count": 82,
   "metadata": {},
   "outputs": [
    {
     "data": {
      "text/plain": [
       "[]"
      ]
     },
     "execution_count": 82,
     "metadata": {},
     "output_type": "execute_result"
    }
   ],
   "source": [
    "# Find Common elements in two list's\n",
    "# approch convert the list to set then print it\n",
    "# Implement your function below.\n",
    "def common_elements(list1, list2):\n",
    "    result = set(list1).intersection(list2)\n",
    "    return list(result)\n",
    "\n",
    "\n",
    "# NOTE: The following input values will be used for testing your solution.\n",
    "list_a1 = [1, 3, 4, 6, 7, 9]\n",
    "list_a2 = [1, 2, 4, 5, 9, 10]\n",
    "# common_elements(list_a1, list_a2) should return [1, 4, 9] (a list).\n",
    "\n",
    "list_b1 = [1, 2, 9, 10, 11, 12]\n",
    "list_b2 = [0, 1, 2, 3, 4, 5, 8, 9, 10, 12, 14, 15]\n",
    "# common_elements(list_b1, list_b2) should return [1, 2, 9, 10, 12] (a list).\n",
    "\n",
    "list_c1 = [0, 1, 2, 3, 4, 5]\n",
    "list_c2 = [6, 7, 8, 9, 10, 11]\n",
    "# common_elements(list_b1, list_b2) should return [] (an empty list).\n",
    "common_elements(list_c1,list_c2)"
   ]
  },
  {
   "cell_type": "code",
   "execution_count": 1,
   "metadata": {},
   "outputs": [
    {
     "data": {
      "text/plain": [
       "'redoc'"
      ]
     },
     "execution_count": 1,
     "metadata": {},
     "output_type": "execute_result"
    }
   ],
   "source": [
    "## Reverse the string\n",
    "def rev_string (str):\n",
    "    output = str[::-1]\n",
    "    return output\n",
    "    \n",
    "rev_string(\"coder\")"
   ]
  },
  {
   "cell_type": "code",
   "execution_count": 9,
   "metadata": {},
   "outputs": [
    {
     "name": "stdout",
     "output_type": "stream",
     "text": [
      "None\n"
     ]
    }
   ],
   "source": [
    "# Check is string is palindrom\n",
    "\n",
    "def ispalindrom(str):\n",
    "    output = str[::-1]\n",
    "    if(output==str):\n",
    "        return True\n",
    "    else:\n",
    "        return False\n",
    "    \n",
    "print(ispalindrom(\"malayalam\"))"
   ]
  },
  {
   "cell_type": "code",
   "execution_count": 91,
   "metadata": {},
   "outputs": [
    {
     "data": {
      "text/plain": [
       "'elements'"
      ]
     },
     "execution_count": 91,
     "metadata": {},
     "output_type": "execute_result"
    }
   ],
   "source": [
    "## Find longest and shorted word \n",
    "def longest(l):\n",
    "    longest=''\n",
    "    lenght =0 \n",
    "    for i in l:\n",
    "        if len(i) > lenght:\n",
    "            longest = i\n",
    "            \n",
    "    return longest\n",
    "\n",
    "l1 = [\"cat\",\"dog\",\"Tree\",\"elements\"]\n",
    "longest(l1)"
   ]
  },
  {
   "cell_type": "code",
   "execution_count": 92,
   "metadata": {},
   "outputs": [
    {
     "name": "stdout",
     "output_type": "stream",
     "text": [
      "[4, 3, 2, 1]\n"
     ]
    }
   ],
   "source": [
    "# Sorting elements in reverse order\n",
    "# List of Integers \n",
    "numbers = [1, 3, 4, 2] \n",
    "  \n",
    "# Sorting list of Integers \n",
    "numbers.sort(reverse=True) \n",
    "print(numbers)"
   ]
  },
  {
   "cell_type": "code",
   "execution_count": 102,
   "metadata": {},
   "outputs": [
    {
     "data": {
      "text/plain": [
       "True"
      ]
     },
     "execution_count": 102,
     "metadata": {},
     "output_type": "execute_result"
    }
   ],
   "source": [
    "# check if array is rotational to each other\n",
    "\n",
    "def check(l1,l2):\n",
    "    if len(l1) != len(l2):\n",
    "        return False\n",
    "    \n",
    "    check = False\n",
    "    \n",
    "    for i in l1:\n",
    "        if i in l2:\n",
    "            check = True\n",
    "        else:\n",
    "            check = False\n",
    "            break\n",
    "    return check\n",
    "    \n",
    "\n",
    "    \n",
    "l1 =[1,2,3,4,5,6,7]\n",
    "l2 =[4,6,5,7,1,2,3]\n",
    "\n",
    "check(l1,l2) "
   ]
  },
  {
   "cell_type": "code",
   "execution_count": 37,
   "metadata": {},
   "outputs": [
    {
     "data": {
      "text/plain": [
       "{'ram': 10, 'shiv': 20, 'ajay': 15}"
      ]
     },
     "execution_count": 37,
     "metadata": {},
     "output_type": "execute_result"
    }
   ],
   "source": [
    "A = ['ram','shiv','ajay']\n",
    "B= [10,20,15]\n",
    "dictionary = dict(zip(A,B))\n",
    "dictionary"
   ]
  },
  {
   "cell_type": "code",
   "execution_count": 114,
   "metadata": {},
   "outputs": [
    {
     "data": {
      "text/plain": [
       "['e', 'o']"
      ]
     },
     "execution_count": 114,
     "metadata": {},
     "output_type": "execute_result"
    }
   ],
   "source": [
    "# non repeating characters in string:\n",
    "def nonrepeatingchar(str):\n",
    "    result =[]\n",
    "    counter = 1\n",
    "    for i in str:\n",
    "        count = str.count(i)\n",
    "        if count == counter:\n",
    "            result.append(i)\n",
    "            \n",
    "    return result\n",
    "            \n",
    "nonrepeatingchar(\"HelloH\")"
   ]
  },
  {
   "cell_type": "code",
   "execution_count": 6,
   "metadata": {},
   "outputs": [
    {
     "name": "stdout",
     "output_type": "stream",
     "text": [
      "lgeo\n"
     ]
    }
   ],
   "source": [
    "# find 1 \n",
    "# removing the duplicate character from string keeping only 1st character\n",
    "\n",
    "def dup(str):\n",
    "    target = set(str)\n",
    "    return ''.join(target)\n",
    "\n",
    "print(dup(\"google\")) "
   ]
  },
  {
   "cell_type": "code",
   "execution_count": 10,
   "metadata": {},
   "outputs": [
    {
     "name": "stdout",
     "output_type": "stream",
     "text": [
      "c\n"
     ]
    }
   ],
   "source": [
    "# print only the unique char in given string\n",
    "\n",
    "def uniqueChar(str):\n",
    "    \n",
    "    for i in str:\n",
    "        count = 1\n",
    "        tmp = str.count(i)\n",
    "        if (tmp == count):\n",
    "            print(i)\n",
    "        \n",
    "\n",
    "uniqueChar(\"aabbc\")"
   ]
  },
  {
   "cell_type": "code",
   "execution_count": 3,
   "metadata": {},
   "outputs": [
    {
     "data": {
      "text/plain": [
       "3"
      ]
     },
     "execution_count": 3,
     "metadata": {},
     "output_type": "execute_result"
    }
   ],
   "source": [
    "#Count pairs with given sum\n",
    "#Given an array of integers, and a number ‘sum’, find the number of pairs of integers in the array whose sum is equal to ‘sum’.\n",
    "\n",
    "def getpairCount(arr,target):\n",
    "    count =0\n",
    "    pairCount =0\n",
    "    for i in arr:\n",
    "        if (i + count == target):\n",
    "            pairCount = pairCount+1\n",
    "        else:\n",
    "            count = i\n",
    "\n",
    "    return pairCount\n",
    "\n",
    "arr = [1, 5, 7, -1, 5,3,3]\n",
    "target= 6\n",
    "\n",
    "getpairCount(arr,target) "
   ]
  },
  {
   "cell_type": "code",
   "execution_count": 4,
   "metadata": {},
   "outputs": [
    {
     "name": "stdout",
     "output_type": "stream",
     "text": [
      "True\n"
     ]
    }
   ],
   "source": [
    "# Anagram check Input : s1 = \"listen\"        s2 = \"silent\"\n",
    "#Output : The strings are anagrams.\n",
    "\n",
    "def anagramcheck(s1,s2):\n",
    "    \n",
    "    output = 'False'\n",
    "    s1 = s1.lower()\n",
    "    s2 = s2.lower()\n",
    "     \n",
    "    for i in s1:\n",
    "        if (i in s2):\n",
    "          output = 'True'\n",
    "        else:\n",
    "          output = 'False'\n",
    "    \n",
    "    return output\n",
    "\n",
    "print(anagramcheck(\"GOD\",\"dog\"))   "
   ]
  },
  {
   "cell_type": "code",
   "execution_count": 5,
   "metadata": {},
   "outputs": [
    {
     "data": {
      "text/plain": [
       "'hello'"
      ]
     },
     "execution_count": 5,
     "metadata": {},
     "output_type": "execute_result"
    }
   ],
   "source": [
    "# remove spaces in string\n",
    "s = \"hell  o\"\n",
    "s.replace(\"  \",'')"
   ]
  },
  {
   "cell_type": "code",
   "execution_count": 12,
   "metadata": {},
   "outputs": [
    {
     "data": {
      "text/plain": [
       "'best the is this'"
      ]
     },
     "execution_count": 12,
     "metadata": {},
     "output_type": "execute_result"
    }
   ],
   "source": [
    "# Reverse the sentence\n",
    "# input \"this is the best\" output \"best the is this\"\n",
    "def revword(s):\n",
    "       return \" \".join(s.split()[::-1])\n",
    "\n",
    "\n",
    "revword('this is the best')"
   ]
  },
  {
   "cell_type": "code",
   "execution_count": 11,
   "metadata": {},
   "outputs": [
    {
     "name": "stdout",
     "output_type": "stream",
     "text": [
      "tseb eht si siht\n",
      "this\n",
      "is\n",
      "the\n"
     ]
    }
   ],
   "source": [
    "s = 'this is the best'\n",
    "l = s.split()\n",
    "print(s[::-1])\n",
    "\n",
    "for item in l[:-1] :\n",
    "     print(item)\n",
    "        "
   ]
  },
  {
   "cell_type": "code",
   "execution_count": 1,
   "metadata": {},
   "outputs": [
    {
     "data": {
      "text/plain": [
       "'A6B3C4'"
      ]
     },
     "execution_count": 1,
     "metadata": {},
     "output_type": "execute_result"
    }
   ],
   "source": [
    "#String compression AAAABBBCCCC return A4B3C3 word with their occurance count\n",
    "\n",
    "def compress(s):\n",
    "    \n",
    "    l =[]\n",
    "    out =[]\n",
    "    \n",
    "    for i in s:\n",
    "        if i not in l:\n",
    "            occ = s.count(i)\n",
    "            l.append(i)\n",
    "            value = i+str(occ)\n",
    "            out.append(str(value))\n",
    "        \n",
    "    return ''.join(out)\n",
    "      \n",
    "compress('AAAABBBCCCC')\n",
    "    "
   ]
  },
  {
   "cell_type": "code",
   "execution_count": 16,
   "metadata": {},
   "outputs": [
    {
     "data": {
      "text/plain": [
       "False"
      ]
     },
     "execution_count": 16,
     "metadata": {},
     "output_type": "execute_result"
    }
   ],
   "source": [
    "# Check if string contains unique characters:\n",
    "\n",
    "\n",
    "def uniqCheck(s):\n",
    "    s1 = set(s)\n",
    "    if (len(s)==len(s1)):\n",
    "        return True\n",
    "    else:\n",
    "        return False\n",
    "    \n",
    "uniqCheck(\"abcded\")"
   ]
  },
  {
   "cell_type": "code",
   "execution_count": 23,
   "metadata": {},
   "outputs": [
    {
     "name": "stdout",
     "output_type": "stream",
     "text": [
      "1\n",
      "RON 1\n",
      "BOB 2\n",
      "SAM 3\n",
      "A 10\n",
      "{'A': 10, 'b': 2, 'c': 3, 'RON': 1, 'BOB': 2, 'SAM': 3}\n",
      "{'A': 10, 'b': 2, 'c': 3, 'RON': 1, 'BOB': 2, 'SAM': 3}\n"
     ]
    }
   ],
   "source": [
    "#Creating dict mutable object\n",
    "\n",
    "info = {'A':1,'b':2,'c':3}\n",
    "print(info['A'])\n",
    "\n",
    "\n",
    "# convery key value pair to dict\n",
    "\n",
    "d = dict(RON=1,BOB=2,SAM=3,A=10)\n",
    "d.items()\n",
    "d.values()\n",
    "d.keys()\n",
    "# iterating the dict\n",
    "for i,j in d.items():\n",
    "    print(i , j)\n",
    "    \n",
    "# merge two dict\n",
    "\n",
    "m = {**info , **d}\n",
    "print(m)\n",
    "\n",
    "## or\n",
    "\n",
    "info.update(d)\n",
    "print(info)\n",
    "info.clear()"
   ]
  },
  {
   "cell_type": "code",
   "execution_count": 36,
   "metadata": {},
   "outputs": [
    {
     "data": {
      "text/html": [
       "<div>\n",
       "<style scoped>\n",
       "    .dataframe tbody tr th:only-of-type {\n",
       "        vertical-align: middle;\n",
       "    }\n",
       "\n",
       "    .dataframe tbody tr th {\n",
       "        vertical-align: top;\n",
       "    }\n",
       "\n",
       "    .dataframe thead th {\n",
       "        text-align: right;\n",
       "    }\n",
       "</style>\n",
       "<table border=\"1\" class=\"dataframe\">\n",
       "  <thead>\n",
       "    <tr style=\"text-align: right;\">\n",
       "      <th></th>\n",
       "      <th>name</th>\n",
       "      <th>salary</th>\n",
       "    </tr>\n",
       "  </thead>\n",
       "  <tbody>\n",
       "    <tr>\n",
       "      <th>0</th>\n",
       "      <td>sam</td>\n",
       "      <td>100</td>\n",
       "    </tr>\n",
       "    <tr>\n",
       "      <th>1</th>\n",
       "      <td>bob</td>\n",
       "      <td>200</td>\n",
       "    </tr>\n",
       "    <tr>\n",
       "      <th>2</th>\n",
       "      <td>ram</td>\n",
       "      <td>150</td>\n",
       "    </tr>\n",
       "  </tbody>\n",
       "</table>\n",
       "</div>"
      ],
      "text/plain": [
       "  name  salary\n",
       "0  sam     100\n",
       "1  bob     200\n",
       "2  ram     150"
      ]
     },
     "execution_count": 36,
     "metadata": {},
     "output_type": "execute_result"
    }
   ],
   "source": [
    "import pandas as pd\n",
    "\n",
    "#print(pd.__version__)\n",
    "\n",
    "l = [1,3,10,30]\n",
    "df =pd.Series(l)\n",
    "\n",
    "d = {'name':['sam','bob','ram'], 'salary':[100,200,150]}\n",
    "df1 = pd.DataFrame(d)\n",
    "df1"
   ]
  },
  {
   "cell_type": "code",
   "execution_count": 10,
   "metadata": {},
   "outputs": [
    {
     "name": "stdout",
     "output_type": "stream",
     "text": [
      "A1\n"
     ]
    }
   ],
   "source": [
    "a = 'A'\n",
    "b = 1\n",
    "c = a + str(b)\n",
    "print(c)"
   ]
  },
  {
   "cell_type": "code",
   "execution_count": 15,
   "metadata": {},
   "outputs": [
    {
     "data": {
      "text/plain": [
       "3"
      ]
     },
     "execution_count": 15,
     "metadata": {},
     "output_type": "execute_result"
    }
   ],
   "source": [
    "a = 10\n",
    "b = 3\n",
    "a//b"
   ]
  },
  {
   "cell_type": "code",
   "execution_count": 16,
   "metadata": {},
   "outputs": [
    {
     "name": "stdout",
     "output_type": "stream",
     "text": [
      "(54, 12, 65, 22)\n"
     ]
    }
   ],
   "source": [
    "## Print following tuples in reverse order\n",
    "tuple_1 = (22, 65, 12, 54)\n",
    "\n",
    "print(tuple_1[::-1])"
   ]
  },
  {
   "cell_type": "code",
   "execution_count": 17,
   "metadata": {},
   "outputs": [
    {
     "name": "stdout",
     "output_type": "stream",
     "text": [
      "David\n"
     ]
    }
   ],
   "source": [
    "#Access the name 'David' from the list given below.\n",
    "\n",
    "myList = [(2, 14, 'David'), [2, 7], 'Shaun']\n",
    "print(myList[0][2])\n"
   ]
  },
  {
   "cell_type": "code",
   "execution_count": 37,
   "metadata": {},
   "outputs": [
    {
     "name": "stdout",
     "output_type": "stream",
     "text": [
      "{'A', 2, 4, 6, 'B', 'C'}\n"
     ]
    }
   ],
   "source": [
    "#We have a set and a dictionary given below. Print the set once again after adding the keys of the dictionary to the set. \n",
    "#The order of the expected output may vary as it is a set.\n",
    "\n",
    "mySet = {2, 4, 6}\n",
    "\n",
    "myDict = {'A':'John', 'B':'Emma', 'C':'Sam'}\n",
    "\n",
    "for i in myDict.keys():\n",
    "    mySet.add(i)\n",
    "\n",
    "print(mySet)\n",
    "\n",
    "\n",
    "## Another sol\n",
    "\n",
    "#mySet.update(myDict.keys())\n",
    "#print(mySet)\n"
   ]
  },
  {
   "cell_type": "code",
   "execution_count": 55,
   "metadata": {},
   "outputs": [
    {
     "name": "stdout",
     "output_type": "stream",
     "text": [
      "{2, 4, 6, 8, 10, 12}\n"
     ]
    }
   ],
   "source": [
    "#We have two sets given below. Print all the items from these sets after removing the duplicates.\n",
    "\n",
    "set_1 = {2, 4, 6, 8}\n",
    "set_2 = {6, 8, 10, 12}\n",
    "\n",
    "final_set =set()\n",
    "\n",
    "for i in set_1:\n",
    "    if i not in final_set:\n",
    "        final_set.add(i)\n",
    "\n",
    "for i in set_2:\n",
    "    if i not in final_set:\n",
    "        final_set.add(i)\n",
    "        \n",
    "print(final_set)\n"
   ]
  },
  {
   "cell_type": "code",
   "execution_count": 39,
   "metadata": {},
   "outputs": [
    {
     "name": "stdout",
     "output_type": "stream",
     "text": [
      "{2, 4, 6, 8, 10, 12}\n"
     ]
    }
   ],
   "source": [
    "## another solution We have two sets given below. Print all the items from these sets after removing the duplicates.\n",
    "\n",
    "set_1 = {2, 4, 6, 8}\n",
    "set_2 = {6, 8, 10, 12}\n",
    "\n",
    "print(set_1.union(set_2))"
   ]
  },
  {
   "cell_type": "code",
   "execution_count": 40,
   "metadata": {},
   "outputs": [
    {
     "name": "stdout",
     "output_type": "stream",
     "text": [
      "First Second:  00:00:00\n",
      "Last Second:  23:59:59.999999\n"
     ]
    }
   ],
   "source": [
    "# Write a Python program to print the first and the last second of the day.\n",
    "\n",
    "import datetime\n",
    "\n",
    "print(\"First Second: \", datetime.time.min)\n",
    "print(\"Last Second: \", datetime.time.max)\n"
   ]
  },
  {
   "cell_type": "code",
   "execution_count": 43,
   "metadata": {},
   "outputs": [
    {
     "name": "stdout",
     "output_type": "stream",
     "text": [
      "4\n",
      "4\n"
     ]
    }
   ],
   "source": [
    "# Print the total number of digits in the number given below.\n",
    "\n",
    "num = 8842\n",
    "total=0\n",
    "\n",
    "for i in str(num):\n",
    "    total = total+1\n",
    "    \n",
    "print(total)\n",
    "\n",
    "## Another solution\n",
    "\n",
    "s1= str(num)\n",
    "print(len(s1))"
   ]
  },
  {
   "cell_type": "code",
   "execution_count": 7,
   "metadata": {},
   "outputs": [
    {
     "name": "stdout",
     "output_type": "stream",
     "text": [
      "[19, 13, 7]\n",
      "39\n"
     ]
    }
   ],
   "source": [
    "#We have a list of lists that contains several numbers.\n",
    "#I want you to print the list whose sum of elements is the highest and also the lowest.\n",
    "\n",
    "num_list = [[2, 8, 11], [4, 5, 7, 12], [8, 9, 10, 11], [19, 13, 7], [2, 5, 16]]\n",
    "\n",
    "fl =[]\n",
    "fs =0\n",
    "\n",
    "for i in num_list:\n",
    "    tmp = i\n",
    "    s1 = 0\n",
    "    for t in tmp:\n",
    "        s1 = t+s1\n",
    "    \n",
    "    if s1 > fs:\n",
    "        fs = s1\n",
    "        fl = tmp\n",
    "        \n",
    "print(fl)\n",
    "print(fs)"
   ]
  },
  {
   "cell_type": "code",
   "execution_count": 8,
   "metadata": {},
   "outputs": [
    {
     "name": "stdout",
     "output_type": "stream",
     "text": [
      " Apple\n",
      " Banana\n",
      " Mango\n",
      " Kiwi\n",
      " Guava\n",
      " Grapes\n",
      " Pomegranate\n",
      " Orange\n",
      " Watermelon\n"
     ]
    }
   ],
   "source": [
    "#We have a string that contains the names of different fruits. \n",
    "#I want you to convert this string into multiple substrings where each substring includes one fruit's name.\n",
    "\n",
    "fruits_string = \" Apple, Banana, Mango, Kiwi, Guava, Grapes, Pomegranate, Orange, Watermelon\"\n",
    "\n",
    "fruits = fruits_string.split(\",\")\n",
    "\n",
    "for i in fruits:\n",
    "    print(i)"
   ]
  },
  {
   "cell_type": "code",
   "execution_count": 61,
   "metadata": {},
   "outputs": [
    {
     "name": "stdout",
     "output_type": "stream",
     "text": [
      "['language', 'programming', 'general-purpose', 'and', 'high-level', 'a', 'is', 'Python']\n"
     ]
    }
   ],
   "source": [
    "#Write a program to reverse words in a string.\n",
    "\n",
    "sample_text = \"Python is a high-level and general-purpose programming language\"\n",
    "s1 = sample_text.split(' ')\n",
    "\n",
    "print(s1[::-1])"
   ]
  },
  {
   "cell_type": "code",
   "execution_count": 65,
   "metadata": {},
   "outputs": [
    {
     "name": "stdout",
     "output_type": "stream",
     "text": [
      "[183, 177, 176]\n"
     ]
    }
   ],
   "source": [
    "# Given below is the height (in cm) of the top 10 students in a class. \n",
    "#Print the heights of the top 3 students from the given list.\n",
    "\n",
    "heights = [177, 160, 171, 163, 168, 175, 176, 183, 162, 170]\n",
    "\n",
    "h1 = sorted(heights)\n",
    "\n",
    "print(h1[-1:-4:-1])\n"
   ]
  },
  {
   "cell_type": "code",
   "execution_count": 2,
   "metadata": {},
   "outputs": [
    {
     "name": "stdout",
     "output_type": "stream",
     "text": [
      "[-64, -26, -15, 1, 15, 23, 23, 76]\n"
     ]
    }
   ],
   "source": [
    "## Sort elements in List or array without using sort\n",
    "my_list = [-15, -26, 15, 1, 23, -64, 23, 76]\n",
    "new_list = []\n",
    "\n",
    "while my_list:\n",
    "    min = my_list[0]  \n",
    "    for x in my_list: \n",
    "        if x < min:\n",
    "            min = x\n",
    "    new_list.append(min)\n",
    "    my_list.remove(min)    \n",
    "\n",
    "print(new_list)\n"
   ]
  },
  {
   "cell_type": "code",
   "execution_count": 4,
   "metadata": {},
   "outputs": [
    {
     "name": "stdout",
     "output_type": "stream",
     "text": [
      "[76, 23, 23, 15, 1, -15, -26, -64]\n"
     ]
    }
   ],
   "source": [
    "## sorting the elements in desc order\n",
    "\n",
    "my_list = [-15, -26, 15, 1, 23, -64, 23, 76]\n",
    "new_list =[]\n",
    "\n",
    "while my_list:\n",
    "    max = my_list[0]\n",
    "    for i in my_list:\n",
    "        if i > max:\n",
    "            max =i\n",
    "    \n",
    "    new_list.append(max)\n",
    "    my_list.remove(max)\n",
    "    \n",
    "print(new_list)\n",
    "        \n",
    "        "
   ]
  },
  {
   "cell_type": "code",
   "execution_count": 5,
   "metadata": {},
   "outputs": [
    {
     "name": "stdout",
     "output_type": "stream",
     "text": [
      "1\n"
     ]
    }
   ],
   "source": [
    "#Print the index of the letter 'h' from the string given below.\n",
    "\n",
    "name = 'Python'\n",
    "print(name.index('y'))\n"
   ]
  },
  {
   "cell_type": "code",
   "execution_count": 94,
   "metadata": {},
   "outputs": [
    {
     "name": "stdout",
     "output_type": "stream",
     "text": [
      "Blue\n",
      "White\n",
      "Yellow\n"
     ]
    },
    {
     "data": {
      "text/plain": [
       "['Blue', 'White', 'Yellow']"
      ]
     },
     "execution_count": 94,
     "metadata": {},
     "output_type": "execute_result"
    }
   ],
   "source": [
    "#Print the odd indexed elements from the list of colors given below.\n",
    "\n",
    "myList = ['Red', 'Blue', 'Orange', 'White', 'Black', 'Yellow']\n",
    "\n",
    "for i in range(len(myList)):\n",
    "    if i % 2==1:\n",
    "        print(myList[i])\n",
    "        \n",
    "# Another sol\n",
    "myList[1::2]"
   ]
  },
  {
   "cell_type": "code",
   "execution_count": 6,
   "metadata": {},
   "outputs": [
    {
     "data": {
      "text/plain": [
       "[5, 6, 8, 10, 7, 9]"
      ]
     },
     "execution_count": 6,
     "metadata": {},
     "output_type": "execute_result"
    }
   ],
   "source": [
    "##We have a list of numbers given below. Add the element '10' at the 3rd position of the list and finally print the list.\n",
    "\n",
    "num_list = [5, 6, 8, 7, 9]\n",
    "num_list.insert(3,10)\n",
    "num_list\n"
   ]
  },
  {
   "cell_type": "code",
   "execution_count": 101,
   "metadata": {},
   "outputs": [
    {
     "data": {
      "text/plain": [
       "[5, 6, 8, 9]"
      ]
     },
     "execution_count": 101,
     "metadata": {},
     "output_type": "execute_result"
    }
   ],
   "source": [
    "##drop element at 3 position\n",
    "\n",
    "num_list = [5, 6, 8, 7, 9]\n",
    "\n",
    "num_list.pop(3)\n",
    "num_list"
   ]
  },
  {
   "cell_type": "code",
   "execution_count": 7,
   "metadata": {},
   "outputs": [
    {
     "data": {
      "text/plain": [
       "'Lenovo, Dell, Acer, Asus, HP'"
      ]
     },
     "execution_count": 7,
     "metadata": {},
     "output_type": "execute_result"
    }
   ],
   "source": [
    "# Convert the list given below into a string using a comma as a separator argument.\n",
    "\n",
    "myList = ['Lenovo', ' Dell', ' Acer', ' Asus', ' HP']\n",
    "\n",
    "\n",
    "final = myList[0]\n",
    "for i in range(1,len(myList)):\n",
    "               final = final +\",\"+ myList[i]\n",
    "    \n",
    "final"
   ]
  },
  {
   "cell_type": "code",
   "execution_count": 123,
   "metadata": {},
   "outputs": [
    {
     "name": "stdout",
     "output_type": "stream",
     "text": [
      "3265\n"
     ]
    }
   ],
   "source": [
    "#Reverse the integer given below.\n",
    "\n",
    "n = 5623\n",
    "s1 = str(n)\n",
    "print(int(s1[::-1]))\n"
   ]
  },
  {
   "cell_type": "code",
   "execution_count": 3,
   "metadata": {},
   "outputs": [
    {
     "data": {
      "text/plain": [
       "{1, 2, 3, 6, 7}"
      ]
     },
     "execution_count": 3,
     "metadata": {},
     "output_type": "execute_result"
    }
   ],
   "source": [
    "##We have two sets given below. Print the set of elements that are present in either set1 or set2 but not both.\n",
    "\n",
    "set1 = {1, 2, 3, 4, 5}\n",
    "set2 = {4, 5, 6, 7}\n",
    "\n",
    "final_set = set()\n",
    "\n",
    "for i in set1 :\n",
    "    if i not in final_set and i not in set2:\n",
    "        final_set.add(i)\n",
    "        \n",
    "for i in set2:\n",
    "    if i not in final_set and i not in set1:\n",
    "        final_set.add(i)\n",
    "        \n",
    "final_set\n"
   ]
  },
  {
   "cell_type": "code",
   "execution_count": 4,
   "metadata": {},
   "outputs": [
    {
     "name": "stdout",
     "output_type": "stream",
     "text": [
      "1 One\n",
      "2 Two\n",
      "3 Three\n",
      "1\n",
      "2\n",
      "3\n"
     ]
    }
   ],
   "source": [
    "##Print all the keys of the dictionary given below.\n",
    "\n",
    "myDict = {1:'One', 2:'Two', 3:'Three'}\n",
    "\n",
    "for i,j in myDict.items():\n",
    "    print(i,j)\n",
    "    \n",
    "## For printing only keys\n",
    "\n",
    "for i in myDict:\n",
    "    print(i)"
   ]
  },
  {
   "cell_type": "code",
   "execution_count": null,
   "metadata": {},
   "outputs": [],
   "source": [
    "#We have a dictionary given below. Delete the item with key '3,' and add an item with key '7' and value 'Black.'\n",
    "\n",
    "color = {1:'Red', 2:'Orange', 3:'White', 4:'Brown', 5:'Yellow'}\n"
   ]
  },
  {
   "cell_type": "code",
   "execution_count": 17,
   "metadata": {},
   "outputs": [
    {
     "data": {
      "text/plain": [
       "a    1\n",
       "b    2\n",
       "c    3\n",
       "dtype: int64"
      ]
     },
     "execution_count": 17,
     "metadata": {},
     "output_type": "execute_result"
    }
   ],
   "source": [
    "# play with pandas\n",
    "\n",
    "import pandas as pd\n",
    "s = pd.Series([1,2,3,4,5],index = ['a','b','c','d','e'])\n",
    "s\n",
    "\n",
    "# printing first 3 element\n",
    "\n",
    "\n",
    "s[:3]"
   ]
  },
  {
   "cell_type": "code",
   "execution_count": 39,
   "metadata": {},
   "outputs": [
    {
     "data": {
      "text/html": [
       "<div>\n",
       "<style scoped>\n",
       "    .dataframe tbody tr th:only-of-type {\n",
       "        vertical-align: middle;\n",
       "    }\n",
       "\n",
       "    .dataframe tbody tr th {\n",
       "        vertical-align: top;\n",
       "    }\n",
       "\n",
       "    .dataframe thead th {\n",
       "        text-align: right;\n",
       "    }\n",
       "</style>\n",
       "<table border=\"1\" class=\"dataframe\">\n",
       "  <thead>\n",
       "    <tr style=\"text-align: right;\">\n",
       "      <th></th>\n",
       "      <th>Alex</th>\n",
       "      <th>Bob</th>\n",
       "      <th>clarke</th>\n",
       "    </tr>\n",
       "  </thead>\n",
       "  <tbody>\n",
       "    <tr>\n",
       "      <th>1</th>\n",
       "      <td>10</td>\n",
       "      <td>12</td>\n",
       "      <td>12</td>\n",
       "    </tr>\n",
       "    <tr>\n",
       "      <th>2</th>\n",
       "      <td>10</td>\n",
       "      <td>12</td>\n",
       "      <td>12</td>\n",
       "    </tr>\n",
       "    <tr>\n",
       "      <th>3</th>\n",
       "      <td>10</td>\n",
       "      <td>12</td>\n",
       "      <td>12</td>\n",
       "    </tr>\n",
       "  </tbody>\n",
       "</table>\n",
       "</div>"
      ],
      "text/plain": [
       "   Alex  Bob  clarke\n",
       "1    10   12      12\n",
       "2    10   12      12\n",
       "3    10   12      12"
      ]
     },
     "execution_count": 39,
     "metadata": {},
     "output_type": "execute_result"
    }
   ],
   "source": [
    "\n",
    "import pandas as pd\n",
    "\n",
    "# creating dataframe from list\n",
    "data = [['Alex',10],['Bob',12],['Clarke',13]]\n",
    "\n",
    "df = pd.DataFrame(data,columns=['Name','Age'])\n",
    "#dir(df)\n",
    "\n",
    "\n",
    "# creating dataframe from dict\n",
    "\n",
    "data1 = {'Alex':10,'Bob':12,'clarke':12}\n",
    "df1 = pd.DataFrame(data1,index =[1,2,3])\n",
    "df1"
   ]
  },
  {
   "cell_type": "code",
   "execution_count": 41,
   "metadata": {},
   "outputs": [
    {
     "name": "stdout",
     "output_type": "stream",
     "text": [
      "0\n",
      "1\n",
      "2\n",
      "3\n",
      "4\n",
      "5\n",
      "6\n",
      "7\n",
      "8\n",
      "9\n",
      "10\n"
     ]
    }
   ],
   "source": [
    "for i in range(10+1):\n",
    "    print(i)"
   ]
  },
  {
   "cell_type": "code",
   "execution_count": 44,
   "metadata": {},
   "outputs": [
    {
     "name": "stdout",
     "output_type": "stream",
     "text": [
      "0\n",
      "1\n",
      "2\n",
      "3\n",
      "[3]\n"
     ]
    }
   ],
   "source": [
    "def oddNumbers(l, r):\n",
    "      li = []\n",
    "      for i in range(r+1):\n",
    "        if i > l:\n",
    "            li.append(i)\n",
    "            if l % 2 ==0:\n",
    "               return li[0::2]\n",
    "            else:\n",
    "               return li[1::2]\n",
    "        \n",
    "result = oddNumbers(2, 5)\n",
    "print(result)"
   ]
  }
 ],
 "metadata": {
  "kernelspec": {
   "display_name": "Python 3",
   "language": "python",
   "name": "python3"
  },
  "language_info": {
   "codemirror_mode": {
    "name": "ipython",
    "version": 3
   },
   "file_extension": ".py",
   "mimetype": "text/x-python",
   "name": "python",
   "nbconvert_exporter": "python",
   "pygments_lexer": "ipython3",
   "version": "3.6.4"
  }
 },
 "nbformat": 4,
 "nbformat_minor": 2
}
